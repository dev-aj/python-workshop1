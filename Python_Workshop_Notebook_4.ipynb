{
 "cells": [
  {
   "cell_type": "markdown",
   "metadata": {},
   "source": [
    "## Loops"
   ]
  },
  {
   "cell_type": "markdown",
   "metadata": {},
   "source": [
    "### While loops"
   ]
  },
  {
   "cell_type": "markdown",
   "metadata": {},
   "source": [
    "Now we know how if statements work."
   ]
  },
  {
   "cell_type": "code",
   "execution_count": 2,
   "metadata": {},
   "outputs": [
    {
     "name": "stdout",
     "output_type": "stream",
     "text": [
      "It's raining!\n",
      "Or is it? (y=yes, n=no) y\n",
      "Oh well...\n",
      "It's raining!\n",
      "Or is it? (y=yes, n=no) n\n",
      "It's not raining anymore.\n"
     ]
    }
   ],
   "source": [
    "its_raining = True\n",
    "while its_raining:\n",
    "    print(\"It's raining!\")\n",
    "    answer = input(\"Or is it? (y=yes, n=no) \")\n",
    "    if answer == 'y':\n",
    "        print(\"Oh well...\")\n",
    "    elif answer == 'n':\n",
    "        its_raining = False     # end the while loop\n",
    "    else:\n",
    "        print(\"Enter y or n next time.\")\n",
    "print(\"It's not raining anymore.\")"
   ]
  },
  {
   "cell_type": "markdown",
   "metadata": {},
   "source": [
    "The while loop doesn't check the condition all the time, it only checks it in the beginning."
   ]
  },
  {
   "cell_type": "code",
   "execution_count": 3,
   "metadata": {},
   "outputs": [
    {
     "name": "stdout",
     "output_type": "stream",
     "text": [
      "It's not raining, but the while loop doesn't know it yet.\n"
     ]
    }
   ],
   "source": [
    "its_raining = True\n",
    "while its_raining:\n",
    "    its_raining = False\n",
    "    print(\"It's not raining, but the while loop doesn't know it yet.\")"
   ]
  },
  {
   "cell_type": "markdown",
   "metadata": {},
   "source": [
    "We can also interrupt a loop even if the condition is still true using the break keyword. In this case, we'll set condition to True and rely on nothing but break to end the loop."
   ]
  },
  {
   "cell_type": "code",
   "execution_count": 4,
   "metadata": {},
   "outputs": [
    {
     "name": "stdout",
     "output_type": "stream",
     "text": [
      "Is it raining? (y=yes, n=no) n\n",
      "It's not raining anymore.\n"
     ]
    }
   ],
   "source": [
    "while True:\n",
    "    answer = input(\"Is it raining? (y=yes, n=no) \")\n",
    "    if answer == 'y':\n",
    "        print(\"It's raining!\")\n",
    "    elif answer == 'n':\n",
    "        print(\"It's not raining anymore.\")\n",
    "        break   # end the loop\n",
    "    else:\n",
    "        print(\"Enter y or n.\")"
   ]
  },
  {
   "cell_type": "code",
   "execution_count": 5,
   "metadata": {
    "collapsed": true
   },
   "outputs": [],
   "source": [
    "while True:\n",
    "    break\n",
    "    print(\"This is never printed.\")"
   ]
  },
  {
   "cell_type": "markdown",
   "metadata": {},
   "source": [
    "### For Loops"
   ]
  },
  {
   "cell_type": "markdown",
   "metadata": {},
   "source": [
    "Let's say we have a list of things we want to print. To print each item in it, we could just do a bunch of prints:"
   ]
  },
  {
   "cell_type": "code",
   "execution_count": 6,
   "metadata": {},
   "outputs": [
    {
     "name": "stdout",
     "output_type": "stream",
     "text": [
      "hello\n",
      "hi\n",
      "how are you doing\n",
      "im fine\n",
      "how about you\n"
     ]
    }
   ],
   "source": [
    "stuff = ['hello', 'hi', 'how are you doing', 'im fine', 'how about you']\n",
    "\n",
    "print(stuff[0])\n",
    "print(stuff[1])\n",
    "print(stuff[2])\n",
    "print(stuff[3])\n",
    "print(stuff[4])"
   ]
  },
  {
   "cell_type": "markdown",
   "metadata": {},
   "source": [
    "But this is only going to print five items, so if we add something to stuff, it's not going to be printed. Or if we remove something from stuff, we'll get an error saying \"list index out of range\"."
   ]
  },
  {
   "cell_type": "markdown",
   "metadata": {},
   "source": [
    "We could also create an index variable, and use a while loop:"
   ]
  },
  {
   "cell_type": "code",
   "execution_count": 7,
   "metadata": {},
   "outputs": [
    {
     "name": "stdout",
     "output_type": "stream",
     "text": [
      "hello\n",
      "hi\n",
      "how are you doing\n",
      "im fine\n",
      "how about you\n"
     ]
    }
   ],
   "source": [
    "stuff = ['hello', 'hi', 'how are you doing', 'im fine', 'how about you']\n",
    "length_of_stuff = len(stuff)\n",
    "index = 0\n",
    "while index < length_of_stuff:\n",
    "    print(stuff[index])\n",
    "    index += 1"
   ]
  },
  {
   "cell_type": "markdown",
   "metadata": {},
   "source": [
    "But we have len() and an index variable we need to increment and a while loop and many other things to worry about. That's a lot of work just for printing each item."
   ]
  },
  {
   "cell_type": "markdown",
   "metadata": {},
   "source": [
    "This is when for loops come in:"
   ]
  },
  {
   "cell_type": "code",
   "execution_count": 8,
   "metadata": {},
   "outputs": [
    {
     "name": "stdout",
     "output_type": "stream",
     "text": [
      "hello\n",
      "hi\n",
      "how are you doing\n",
      "im fine\n",
      "how about you\n"
     ]
    }
   ],
   "source": [
    "for thing in stuff:\n",
    "     # this is repeated for each element of stuff, that is, first\n",
    "     # for stuff[0], then for stuff[1], etc.\n",
    "     print(thing)"
   ]
  },
  {
   "cell_type": "markdown",
   "metadata": {},
   "source": [
    "Note that for thing in stuff: is not same as for (thing in stuff):. Here the in keyword is just a part of the for loop and it has a different meaning than it would have if we had thing in stuff without a for. Trying to do for (thing in stuff): creates an error.\n",
    "\n",
    "Right now the while loop version might seem easier to understand for you, but later you'll realize that for loops are much easier to work with than while loops and index variables, especially in large projects. For looping is also a little bit faster than while looping with an index variable.\n",
    "\n",
    "For loops are not actually limited to lists. We can for loop over many other things also, including strings and tuples. For looping over a tuple gives us its items, and for looping over a string gives us its characters as strings of length one."
   ]
  },
  {
   "cell_type": "code",
   "execution_count": 9,
   "metadata": {},
   "outputs": [
    {
     "name": "stdout",
     "output_type": "stream",
     "text": [
      "a\n",
      "b\n",
      "c\n"
     ]
    }
   ],
   "source": [
    "for short_string in 'abc':\n",
    "    print(short_string)"
   ]
  },
  {
   "cell_type": "code",
   "execution_count": 10,
   "metadata": {},
   "outputs": [
    {
     "name": "stdout",
     "output_type": "stream",
     "text": [
      "1\n",
      "2\n",
      "3\n"
     ]
    }
   ],
   "source": [
    "for item in (1, 2, 3):\n",
    "    print(item)"
   ]
  },
  {
   "cell_type": "markdown",
   "metadata": {},
   "source": [
    "If we can for loop over something, then that something is iterable. Lists, tuples and strings are all iterable.\n",
    "\n",
    "There's only one big limitation with for looping over lists. We shouldn't modify the list in the for loop. If we do, the results can be surprising:"
   ]
  },
  {
   "cell_type": "code",
   "execution_count": 11,
   "metadata": {
    "collapsed": true
   },
   "outputs": [],
   "source": [
    "stuff = ['hello', 'hi', 'how are you doing', 'im fine', 'how about you']\n",
    "for thing in stuff:\n",
    "    stuff.remove(thing)"
   ]
  },
  {
   "cell_type": "code",
   "execution_count": 12,
   "metadata": {},
   "outputs": [
    {
     "data": {
      "text/plain": [
       "['hi', 'im fine']"
      ]
     },
     "execution_count": 12,
     "metadata": {},
     "output_type": "execute_result"
    }
   ],
   "source": [
    "stuff"
   ]
  },
  {
   "cell_type": "markdown",
   "metadata": {},
   "source": [
    "Instead, we can create a copy of stuff and loop over it."
   ]
  },
  {
   "cell_type": "code",
   "execution_count": 13,
   "metadata": {
    "collapsed": true
   },
   "outputs": [],
   "source": [
    "stuff = ['hello', 'hi', 'how are you doing', 'im fine', 'how about you']\n",
    "for thing in stuff.copy():\n",
    "    stuff.remove(thing)"
   ]
  },
  {
   "cell_type": "code",
   "execution_count": 14,
   "metadata": {},
   "outputs": [
    {
     "data": {
      "text/plain": [
       "[]"
      ]
     },
     "execution_count": 14,
     "metadata": {},
     "output_type": "execute_result"
    }
   ],
   "source": [
    "stuff"
   ]
  },
  {
   "cell_type": "markdown",
   "metadata": {},
   "source": [
    "Or if we just want to clear a list, we can use the clear list method:"
   ]
  },
  {
   "cell_type": "code",
   "execution_count": 15,
   "metadata": {},
   "outputs": [
    {
     "data": {
      "text/plain": [
       "[]"
      ]
     },
     "execution_count": 15,
     "metadata": {},
     "output_type": "execute_result"
    }
   ],
   "source": [
    "stuff = ['hello', 'hi', 'how are you doing', 'im fine', 'how about you']\n",
    "stuff.clear()\n",
    "stuff"
   ]
  },
  {
   "cell_type": "markdown",
   "metadata": {},
   "source": [
    "## Dictionaries"
   ]
  },
  {
   "cell_type": "markdown",
   "metadata": {},
   "source": [
    "Now we know how lists and tuples work and how to for loop over them. If we make some kind of program that needs to keep track of people's names and favorite pets, we can use a list for that:\n",
    "\n"
   ]
  },
  {
   "cell_type": "code",
   "execution_count": 16,
   "metadata": {
    "collapsed": true
   },
   "outputs": [],
   "source": [
    "names_and_pets = [\n",
    "    ('horusr', 'cats'),\n",
    "    ('caisa64', 'cats and dogs'),\n",
    "    ('__Myst__', 'cats'),\n",
    "]"
   ]
  },
  {
   "cell_type": "markdown",
   "metadata": {},
   "source": [
    "Then to check if cats are horusr's favorite pets we can do ('horusr', 'cats') in names_and_pets. Or we can add new people's favorite pets easily by appending new (name, pets) tuples to the list.\n",
    "\n",
    "But what if we need to check if we know anything about someone's favorite pets? 'caisa64' in names_and_pets is always False because the pet list consists of (name, pets) pairs instead of just names, so we need to for loop over the whole pet list:"
   ]
  },
  {
   "cell_type": "code",
   "execution_count": 18,
   "metadata": {},
   "outputs": [
    {
     "name": "stdout",
     "output_type": "stream",
     "text": [
      "Found\n"
     ]
    }
   ],
   "source": [
    "found_caisa64 = False\n",
    "for pair in names_and_pets:\n",
    "    if pair[0] == 'caisa64':\n",
    "        found_caisa64 = True\n",
    "        break\n",
    "if found_caisa64:\n",
    "    print(\"Found\")"
   ]
  },
  {
   "cell_type": "markdown",
   "metadata": {},
   "source": [
    "Or what if we need to find out what caisa64's favorite pets are? That also requires going through the whole list."
   ]
  },
  {
   "cell_type": "code",
   "execution_count": 19,
   "metadata": {
    "collapsed": true
   },
   "outputs": [],
   "source": [
    "pets = None\n",
    "for pair in names_and_pets:\n",
    "    if pair[0] == 'caisa64':\n",
    "        pets = pair[1]\n",
    "        break\n",
    "# make sure pets is not None and do something with it"
   ]
  },
  {
   "cell_type": "markdown",
   "metadata": {},
   "source": [
    "As you can see, a list of (name, pets) pairs is not an ideal way to store names and favorite pets."
   ]
  },
  {
   "cell_type": "markdown",
   "metadata": {},
   "source": [
    "### What are dictionaries?"
   ]
  },
  {
   "cell_type": "markdown",
   "metadata": {},
   "source": [
    "A better way to store information about favorite pets might be a dictionary:"
   ]
  },
  {
   "cell_type": "code",
   "execution_count": 21,
   "metadata": {
    "collapsed": true
   },
   "outputs": [],
   "source": [
    "favorite_pets = {\n",
    "    'horusr': 'cats',\n",
    "    'caisa64': 'cats and dogs',\n",
    "    '__Myst__': 'cats',\n",
    "}"
   ]
  },
  {
   "cell_type": "markdown",
   "metadata": {},
   "source": [
    "Here 'horusr' and 'caisa64' are keys in the dictionary, and 'cats' and 'cats and docs' are their values. Dictionaries are often named by their values. This dictionary has favorite pets as its values so I named the variable favorite_pets.\n",
    "\n",
    "There are a few big differences between dictionaries and lists of pairs:\n",
    "\n",
    "+ Dictionaries are not ordered. There are no guarantees about which order the name: pets pairs appear in when we do something with the dictionary.\n",
    "+ Checking if a key is in the dictionary is simple and fast. We don't need to for loop through the whole dictionary.\n",
    "+ Getting the value of a key is also simple and fast.\n",
    "+ We can't have the same key in the dictionary multiple times, but multiple different keys can have the same value. This means that multiple people can't have the same name, but they can have the same favorite pets.\n",
    "\n",
    "But wait... this is a lot like variables are! Our variables are not ordered, getting a value of a variable is fast and easy and we can't have multiple variables with the same name.\n",
    "\n",
    "Variables are actually stored in a dictionary. We can get that dictionary with the globals function. In this dictionary, keys are variable names and values are what our variables point to."
   ]
  },
  {
   "cell_type": "markdown",
   "metadata": {},
   "source": [
    "But wait... this is a lot like variables are! Our variables are not ordered, getting a value of a variable is fast and easy and we can't have multiple variables with the same name.\n",
    "\n",
    "Variables are actually stored in a dictionary. We can get that dictionary with the globals function. In this dictionary, keys are variable names and values are what our variables point to."
   ]
  },
  {
   "cell_type": "code",
   "execution_count": 22,
   "metadata": {},
   "outputs": [
    {
     "data": {
      "text/plain": [
       "{'In': ['',\n",
       "  'its_raining = True\\nif its_raining:\\n    print(\"Oh crap, it\\'s raining!\")',\n",
       "  'its_raining = True\\nwhile its_raining:\\n    print(\"It\\'s raining!\")\\n    answer = input(\"Or is it? (y=yes, n=no) \")\\n    if answer == \\'y\\':\\n        print(\"Oh well...\")\\n    elif answer == \\'n\\':\\n        its_raining = False     # end the while loop\\n    else:\\n        print(\"Enter y or n next time.\")\\nprint(\"It\\'s not raining anymore.\")',\n",
       "  'its_raining = True\\nwhile its_raining:\\n    its_raining = False\\n    print(\"It\\'s not raining, but the while loop doesn\\'t know it yet.\")',\n",
       "  'while True:\\n    answer = input(\"Is it raining? (y=yes, n=no) \")\\n    if answer == \\'y\\':\\n        print(\"It\\'s raining!\")\\n    elif answer == \\'n\\':\\n        print(\"It\\'s not raining anymore.\")\\n        break   # end the loop\\n    else:\\n        print(\"Enter y or n.\")',\n",
       "  'while True:\\n    break\\n    print(\"This is never printed.\")',\n",
       "  \"stuff = ['hello', 'hi', 'how are you doing', 'im fine', 'how about you']\\n\\nprint(stuff[0])\\nprint(stuff[1])\\nprint(stuff[2])\\nprint(stuff[3])\\nprint(stuff[4])\",\n",
       "  \"stuff = ['hello', 'hi', 'how are you doing', 'im fine', 'how about you']\\nlength_of_stuff = len(stuff)\\nindex = 0\\nwhile index < length_of_stuff:\\n    print(stuff[index])\\n    index += 1\",\n",
       "  'for thing in stuff:\\n     # this is repeated for each element of stuff, that is, first\\n     # for stuff[0], then for stuff[1], etc.\\n     print(thing)',\n",
       "  \"for short_string in 'abc':\\n    print(short_string)\",\n",
       "  'for item in (1, 2, 3):\\n    print(item)',\n",
       "  \"stuff = ['hello', 'hi', 'how are you doing', 'im fine', 'how about you']\\nfor thing in stuff:\\n    stuff.remove(thing)\",\n",
       "  'stuff',\n",
       "  \"stuff = ['hello', 'hi', 'how are you doing', 'im fine', 'how about you']\\nfor thing in stuff.copy():\\n    stuff.remove(thing)\",\n",
       "  'stuff',\n",
       "  \"stuff = ['hello', 'hi', 'how are you doing', 'im fine', 'how about you']\\nstuff.clear()\\nstuff\",\n",
       "  \"names_and_pets = [\\n    ('horusr', 'cats'),\\n    ('caisa64', 'cats and dogs'),\\n    ('__Myst__', 'cats'),\\n]\",\n",
       "  \"found_caisa64 = False\\nfor pair in names_and_pets:\\n    if pair[0] == 'caisa64':\\n        found_caisa64 = True\\n        break\\nif found_caisa64:\\n    # do something\",\n",
       "  'found_caisa64 = False\\nfor pair in names_and_pets:\\n    if pair[0] == \\'caisa64\\':\\n        found_caisa64 = True\\n        break\\nif found_caisa64:\\n    print(\"Found\")',\n",
       "  \"pets = None\\nfor pair in names_and_pets:\\n    if pair[0] == 'caisa64':\\n        pets = pair[1]\\n        break\\n# make sure pets is not None and do something with it\",\n",
       "  'As you can see, a list of (name, pets) pairs is not an ideal way to store names and favorite pets.',\n",
       "  \"favorite_pets = {\\n    'horusr': 'cats',\\n    'caisa64': 'cats and dogs',\\n    '__Myst__': 'cats',\\n}\",\n",
       "  'globals()'],\n",
       " 'Out': {12: ['hi', 'im fine'], 14: [], 15: []},\n",
       " '_': [],\n",
       " '_12': ['hi', 'im fine'],\n",
       " '_14': [],\n",
       " '_15': [],\n",
       " '__': [],\n",
       " '___': ['hi', 'im fine'],\n",
       " '__builtin__': <module 'builtins' (built-in)>,\n",
       " '__builtins__': <module 'builtins' (built-in)>,\n",
       " '__doc__': 'Automatically created module for IPython interactive environment',\n",
       " '__loader__': None,\n",
       " '__name__': '__main__',\n",
       " '__package__': None,\n",
       " '__spec__': None,\n",
       " '_dh': ['/home/ironstark'],\n",
       " '_i': \"favorite_pets = {\\n    'horusr': 'cats',\\n    'caisa64': 'cats and dogs',\\n    '__Myst__': 'cats',\\n}\",\n",
       " '_i1': 'its_raining = True\\nif its_raining:\\n    print(\"Oh crap, it\\'s raining!\")',\n",
       " '_i10': 'for item in (1, 2, 3):\\n    print(item)',\n",
       " '_i11': \"stuff = ['hello', 'hi', 'how are you doing', 'im fine', 'how about you']\\nfor thing in stuff:\\n    stuff.remove(thing)\",\n",
       " '_i12': 'stuff',\n",
       " '_i13': \"stuff = ['hello', 'hi', 'how are you doing', 'im fine', 'how about you']\\nfor thing in stuff.copy():\\n    stuff.remove(thing)\",\n",
       " '_i14': 'stuff',\n",
       " '_i15': \"stuff = ['hello', 'hi', 'how are you doing', 'im fine', 'how about you']\\nstuff.clear()\\nstuff\",\n",
       " '_i16': \"names_and_pets = [\\n    ('horusr', 'cats'),\\n    ('caisa64', 'cats and dogs'),\\n    ('__Myst__', 'cats'),\\n]\",\n",
       " '_i17': \"found_caisa64 = False\\nfor pair in names_and_pets:\\n    if pair[0] == 'caisa64':\\n        found_caisa64 = True\\n        break\\nif found_caisa64:\\n    # do something\",\n",
       " '_i18': 'found_caisa64 = False\\nfor pair in names_and_pets:\\n    if pair[0] == \\'caisa64\\':\\n        found_caisa64 = True\\n        break\\nif found_caisa64:\\n    print(\"Found\")',\n",
       " '_i19': \"pets = None\\nfor pair in names_and_pets:\\n    if pair[0] == 'caisa64':\\n        pets = pair[1]\\n        break\\n# make sure pets is not None and do something with it\",\n",
       " '_i2': 'its_raining = True\\nwhile its_raining:\\n    print(\"It\\'s raining!\")\\n    answer = input(\"Or is it? (y=yes, n=no) \")\\n    if answer == \\'y\\':\\n        print(\"Oh well...\")\\n    elif answer == \\'n\\':\\n        its_raining = False     # end the while loop\\n    else:\\n        print(\"Enter y or n next time.\")\\nprint(\"It\\'s not raining anymore.\")',\n",
       " '_i20': 'As you can see, a list of (name, pets) pairs is not an ideal way to store names and favorite pets.',\n",
       " '_i21': \"favorite_pets = {\\n    'horusr': 'cats',\\n    'caisa64': 'cats and dogs',\\n    '__Myst__': 'cats',\\n}\",\n",
       " '_i22': 'globals()',\n",
       " '_i3': 'its_raining = True\\nwhile its_raining:\\n    its_raining = False\\n    print(\"It\\'s not raining, but the while loop doesn\\'t know it yet.\")',\n",
       " '_i4': 'while True:\\n    answer = input(\"Is it raining? (y=yes, n=no) \")\\n    if answer == \\'y\\':\\n        print(\"It\\'s raining!\")\\n    elif answer == \\'n\\':\\n        print(\"It\\'s not raining anymore.\")\\n        break   # end the loop\\n    else:\\n        print(\"Enter y or n.\")',\n",
       " '_i5': 'while True:\\n    break\\n    print(\"This is never printed.\")',\n",
       " '_i6': \"stuff = ['hello', 'hi', 'how are you doing', 'im fine', 'how about you']\\n\\nprint(stuff[0])\\nprint(stuff[1])\\nprint(stuff[2])\\nprint(stuff[3])\\nprint(stuff[4])\",\n",
       " '_i7': \"stuff = ['hello', 'hi', 'how are you doing', 'im fine', 'how about you']\\nlength_of_stuff = len(stuff)\\nindex = 0\\nwhile index < length_of_stuff:\\n    print(stuff[index])\\n    index += 1\",\n",
       " '_i8': 'for thing in stuff:\\n     # this is repeated for each element of stuff, that is, first\\n     # for stuff[0], then for stuff[1], etc.\\n     print(thing)',\n",
       " '_i9': \"for short_string in 'abc':\\n    print(short_string)\",\n",
       " '_ih': ['',\n",
       "  'its_raining = True\\nif its_raining:\\n    print(\"Oh crap, it\\'s raining!\")',\n",
       "  'its_raining = True\\nwhile its_raining:\\n    print(\"It\\'s raining!\")\\n    answer = input(\"Or is it? (y=yes, n=no) \")\\n    if answer == \\'y\\':\\n        print(\"Oh well...\")\\n    elif answer == \\'n\\':\\n        its_raining = False     # end the while loop\\n    else:\\n        print(\"Enter y or n next time.\")\\nprint(\"It\\'s not raining anymore.\")',\n",
       "  'its_raining = True\\nwhile its_raining:\\n    its_raining = False\\n    print(\"It\\'s not raining, but the while loop doesn\\'t know it yet.\")',\n",
       "  'while True:\\n    answer = input(\"Is it raining? (y=yes, n=no) \")\\n    if answer == \\'y\\':\\n        print(\"It\\'s raining!\")\\n    elif answer == \\'n\\':\\n        print(\"It\\'s not raining anymore.\")\\n        break   # end the loop\\n    else:\\n        print(\"Enter y or n.\")',\n",
       "  'while True:\\n    break\\n    print(\"This is never printed.\")',\n",
       "  \"stuff = ['hello', 'hi', 'how are you doing', 'im fine', 'how about you']\\n\\nprint(stuff[0])\\nprint(stuff[1])\\nprint(stuff[2])\\nprint(stuff[3])\\nprint(stuff[4])\",\n",
       "  \"stuff = ['hello', 'hi', 'how are you doing', 'im fine', 'how about you']\\nlength_of_stuff = len(stuff)\\nindex = 0\\nwhile index < length_of_stuff:\\n    print(stuff[index])\\n    index += 1\",\n",
       "  'for thing in stuff:\\n     # this is repeated for each element of stuff, that is, first\\n     # for stuff[0], then for stuff[1], etc.\\n     print(thing)',\n",
       "  \"for short_string in 'abc':\\n    print(short_string)\",\n",
       "  'for item in (1, 2, 3):\\n    print(item)',\n",
       "  \"stuff = ['hello', 'hi', 'how are you doing', 'im fine', 'how about you']\\nfor thing in stuff:\\n    stuff.remove(thing)\",\n",
       "  'stuff',\n",
       "  \"stuff = ['hello', 'hi', 'how are you doing', 'im fine', 'how about you']\\nfor thing in stuff.copy():\\n    stuff.remove(thing)\",\n",
       "  'stuff',\n",
       "  \"stuff = ['hello', 'hi', 'how are you doing', 'im fine', 'how about you']\\nstuff.clear()\\nstuff\",\n",
       "  \"names_and_pets = [\\n    ('horusr', 'cats'),\\n    ('caisa64', 'cats and dogs'),\\n    ('__Myst__', 'cats'),\\n]\",\n",
       "  \"found_caisa64 = False\\nfor pair in names_and_pets:\\n    if pair[0] == 'caisa64':\\n        found_caisa64 = True\\n        break\\nif found_caisa64:\\n    # do something\",\n",
       "  'found_caisa64 = False\\nfor pair in names_and_pets:\\n    if pair[0] == \\'caisa64\\':\\n        found_caisa64 = True\\n        break\\nif found_caisa64:\\n    print(\"Found\")',\n",
       "  \"pets = None\\nfor pair in names_and_pets:\\n    if pair[0] == 'caisa64':\\n        pets = pair[1]\\n        break\\n# make sure pets is not None and do something with it\",\n",
       "  'As you can see, a list of (name, pets) pairs is not an ideal way to store names and favorite pets.',\n",
       "  \"favorite_pets = {\\n    'horusr': 'cats',\\n    'caisa64': 'cats and dogs',\\n    '__Myst__': 'cats',\\n}\",\n",
       "  'globals()'],\n",
       " '_ii': 'As you can see, a list of (name, pets) pairs is not an ideal way to store names and favorite pets.',\n",
       " '_iii': \"pets = None\\nfor pair in names_and_pets:\\n    if pair[0] == 'caisa64':\\n        pets = pair[1]\\n        break\\n# make sure pets is not None and do something with it\",\n",
       " '_oh': {12: ['hi', 'im fine'], 14: [], 15: []},\n",
       " 'answer': 'n',\n",
       " 'exit': <IPython.core.autocall.ZMQExitAutocall at 0x7f94aaaacd30>,\n",
       " 'favorite_pets': {'__Myst__': 'cats',\n",
       "  'caisa64': 'cats and dogs',\n",
       "  'horusr': 'cats'},\n",
       " 'found_caisa64': True,\n",
       " 'get_ipython': <bound method InteractiveShell.get_ipython of <ipykernel.zmqshell.ZMQInteractiveShell object at 0x7f94b43096a0>>,\n",
       " 'index': 5,\n",
       " 'item': 3,\n",
       " 'its_raining': False,\n",
       " 'length_of_stuff': 5,\n",
       " 'names_and_pets': [('horusr', 'cats'),\n",
       "  ('caisa64', 'cats and dogs'),\n",
       "  ('__Myst__', 'cats')],\n",
       " 'pair': ('caisa64', 'cats and dogs'),\n",
       " 'pets': 'cats and dogs',\n",
       " 'quit': <IPython.core.autocall.ZMQExitAutocall at 0x7f94aaaacd30>,\n",
       " 'short_string': 'c',\n",
       " 'stuff': [],\n",
       " 'thing': 'how about you'}"
      ]
     },
     "execution_count": 22,
     "metadata": {},
     "output_type": "execute_result"
    }
   ],
   "source": [
    "globals()"
   ]
  },
  {
   "cell_type": "markdown",
   "metadata": {},
   "source": [
    "So if you have trouble remembering how dictionaries work just compare them to variables. A dictionary is a perfect way to store these names and favorite pets. We don't care about which order the names and pets were added in, it's impossible to add the same name multiple times and getting someone's favorite pets is easy."
   ]
  },
  {
   "cell_type": "markdown",
   "metadata": {},
   "source": [
    "### What can we do with dictionaries?"
   ]
  },
  {
   "cell_type": "markdown",
   "metadata": {},
   "source": [
    "Dictionaries have some similarities with lists. For example, both lists and dictionaries have a length."
   ]
  },
  {
   "cell_type": "code",
   "execution_count": 23,
   "metadata": {},
   "outputs": [
    {
     "data": {
      "text/plain": [
       "3"
      ]
     },
     "execution_count": 23,
     "metadata": {},
     "output_type": "execute_result"
    }
   ],
   "source": [
    " len(names_and_pets)"
   ]
  },
  {
   "cell_type": "code",
   "execution_count": 24,
   "metadata": {},
   "outputs": [
    {
     "data": {
      "text/plain": [
       "3"
      ]
     },
     "execution_count": 24,
     "metadata": {},
     "output_type": "execute_result"
    }
   ],
   "source": [
    " len(favorite_pets)    # contains three key:value pairs"
   ]
  },
  {
   "cell_type": "markdown",
   "metadata": {},
   "source": [
    "We can get a value of a key with the_dict[key]. This is a lot easier and faster than for-looping over a list of pairs.\n",
    "\n"
   ]
  },
  {
   "cell_type": "code",
   "execution_count": 25,
   "metadata": {},
   "outputs": [
    {
     "data": {
      "text/plain": [
       "'cats and dogs'"
      ]
     },
     "execution_count": 25,
     "metadata": {},
     "output_type": "execute_result"
    }
   ],
   "source": [
    "favorite_pets['caisa64']"
   ]
  },
  {
   "cell_type": "code",
   "execution_count": 26,
   "metadata": {},
   "outputs": [
    {
     "data": {
      "text/plain": [
       "'cats'"
      ]
     },
     "execution_count": 26,
     "metadata": {},
     "output_type": "execute_result"
    }
   ],
   "source": [
    "favorite_pets['__Myst__']"
   ]
  },
  {
   "cell_type": "markdown",
   "metadata": {},
   "source": [
    "Trying to get the value of a non-existing key gives us an error."
   ]
  },
  {
   "cell_type": "code",
   "execution_count": 27,
   "metadata": {},
   "outputs": [
    {
     "ename": "KeyError",
     "evalue": "'Akuli'",
     "output_type": "error",
     "traceback": [
      "\u001b[0;31m---------------------------------------------------------------------------\u001b[0m",
      "\u001b[0;31mKeyError\u001b[0m                                  Traceback (most recent call last)",
      "\u001b[0;32m<ipython-input-27-5e650058ec13>\u001b[0m in \u001b[0;36m<module>\u001b[0;34m()\u001b[0m\n\u001b[0;32m----> 1\u001b[0;31m \u001b[0mfavorite_pets\u001b[0m\u001b[0;34m[\u001b[0m\u001b[0;34m'Akuli'\u001b[0m\u001b[0;34m]\u001b[0m\u001b[0;34m\u001b[0m\u001b[0m\n\u001b[0m",
      "\u001b[0;31mKeyError\u001b[0m: 'Akuli'"
     ]
    }
   ],
   "source": [
    " favorite_pets['Akuli']"
   ]
  },
  {
   "cell_type": "markdown",
   "metadata": {},
   "source": [
    "But we can add new key: value pairs or change the values of existing keys by doing the_dict[key] = value."
   ]
  },
  {
   "cell_type": "code",
   "execution_count": 28,
   "metadata": {},
   "outputs": [
    {
     "data": {
      "text/plain": [
       "'penguins'"
      ]
     },
     "execution_count": 28,
     "metadata": {},
     "output_type": "execute_result"
    }
   ],
   "source": [
    "favorite_pets['Akuli'] = 'penguins'\n",
    "favorite_pets['Akuli']"
   ]
  },
  {
   "cell_type": "code",
   "execution_count": 30,
   "metadata": {},
   "outputs": [
    {
     "data": {
      "text/plain": [
       "'dogs'"
      ]
     },
     "execution_count": 30,
     "metadata": {},
     "output_type": "execute_result"
    }
   ],
   "source": [
    "favorite_pets['Akuli'] = 'dogs'\n",
    "favorite_pets['Akuli']"
   ]
  },
  {
   "cell_type": "code",
   "execution_count": 31,
   "metadata": {},
   "outputs": [
    {
     "data": {
      "text/plain": [
       "{'Akuli': 'dogs',\n",
       " '__Myst__': 'cats',\n",
       " 'caisa64': 'cats and dogs',\n",
       " 'horusr': 'cats'}"
      ]
     },
     "execution_count": 31,
     "metadata": {},
     "output_type": "execute_result"
    }
   ],
   "source": [
    " favorite_pets"
   ]
  },
  {
   "cell_type": "markdown",
   "metadata": {},
   "source": [
    "For looping over a dictionary gets its keys, and checking if something is in the dictionary checks if the dictionary has a key like that. This can be confusing at first but you'll get used to this.\n"
   ]
  },
  {
   "cell_type": "code",
   "execution_count": 32,
   "metadata": {},
   "outputs": [
    {
     "data": {
      "text/plain": [
       "True"
      ]
     },
     "execution_count": 32,
     "metadata": {},
     "output_type": "execute_result"
    }
   ],
   "source": [
    "'Akuli' in favorite_pets"
   ]
  },
  {
   "cell_type": "code",
   "execution_count": 33,
   "metadata": {},
   "outputs": [
    {
     "data": {
      "text/plain": [
       "False"
      ]
     },
     "execution_count": 33,
     "metadata": {},
     "output_type": "execute_result"
    }
   ],
   "source": [
    "'dogs' in favorite_pets"
   ]
  },
  {
   "cell_type": "code",
   "execution_count": 34,
   "metadata": {},
   "outputs": [
    {
     "name": "stdout",
     "output_type": "stream",
     "text": [
      "horusr\n",
      "caisa64\n",
      "__Myst__\n",
      "Akuli\n"
     ]
    }
   ],
   "source": [
    "for name in favorite_pets:\n",
    "    print(name)"
   ]
  },
  {
   "cell_type": "markdown",
   "metadata": {},
   "source": [
    "Dictionaries have a values method that we can use if we want to do something with the values:"
   ]
  },
  {
   "cell_type": "code",
   "execution_count": 35,
   "metadata": {},
   "outputs": [
    {
     "data": {
      "text/plain": [
       "dict_values(['cats', 'cats and dogs', 'cats', 'dogs'])"
      ]
     },
     "execution_count": 35,
     "metadata": {},
     "output_type": "execute_result"
    }
   ],
   "source": [
    "favorite_pets.values()"
   ]
  },
  {
   "cell_type": "code",
   "execution_count": 36,
   "metadata": {},
   "outputs": [
    {
     "name": "stdout",
     "output_type": "stream",
     "text": [
      "cats\n",
      "cats and dogs\n",
      "cats\n",
      "dogs\n"
     ]
    }
   ],
   "source": [
    "for pets in favorite_pets.values():\n",
    "    print(pets)"
   ]
  },
  {
   "cell_type": "markdown",
   "metadata": {},
   "source": [
    "We can do things like list(favorite_pets.values()) if we need a real list for some reason, but doing that can slow down our program if the dictionary is big. There's also a keys method, but usually we don't need it because the dictionary itself behaves a lot like a list of keys.\n",
    "\n",
    "If we need both keys and values we can use the items method with the for first, second in thing trick."
   ]
  },
  {
   "cell_type": "code",
   "execution_count": 37,
   "metadata": {},
   "outputs": [
    {
     "data": {
      "text/plain": [
       "dict_items([('horusr', 'cats'), ('caisa64', 'cats and dogs'), ('__Myst__', 'cats'), ('Akuli', 'dogs')])"
      ]
     },
     "execution_count": 37,
     "metadata": {},
     "output_type": "execute_result"
    }
   ],
   "source": [
    " favorite_pets.items()"
   ]
  },
  {
   "cell_type": "code",
   "execution_count": 38,
   "metadata": {},
   "outputs": [
    {
     "name": "stdout",
     "output_type": "stream",
     "text": [
      "cats are horusr's favorite pets\n",
      "cats and dogs are caisa64's favorite pets\n",
      "cats are __Myst__'s favorite pets\n",
      "dogs are Akuli's favorite pets\n"
     ]
    }
   ],
   "source": [
    "for name, pets in favorite_pets.items():\n",
    "    print(\"{} are {}'s favorite pets\".format(pets, name))"
   ]
  },
  {
   "cell_type": "markdown",
   "metadata": {},
   "source": [
    "This is also useful for checking if the dictionary has a key: value pair."
   ]
  },
  {
   "cell_type": "code",
   "execution_count": 40,
   "metadata": {},
   "outputs": [
    {
     "data": {
      "text/plain": [
       "True"
      ]
     },
     "execution_count": 40,
     "metadata": {},
     "output_type": "execute_result"
    }
   ],
   "source": [
    "('horusr', 'cats') in favorite_pets.items()"
   ]
  },
  {
   "cell_type": "code",
   "execution_count": 42,
   "metadata": {},
   "outputs": [
    {
     "data": {
      "text/plain": [
       "False"
      ]
     },
     "execution_count": 42,
     "metadata": {},
     "output_type": "execute_result"
    }
   ],
   "source": [
    "('horusr', 'dogs') in favorite_pets.items()"
   ]
  },
  {
   "cell_type": "markdown",
   "metadata": {},
   "source": [
    "### Limitations"
   ]
  },
  {
   "cell_type": "markdown",
   "metadata": {},
   "source": [
    "Sometimes it might be handy to use lists as dictionary keys, but it just doesn't work."
   ]
  },
  {
   "cell_type": "code",
   "execution_count": 43,
   "metadata": {},
   "outputs": [
    {
     "ename": "TypeError",
     "evalue": "unhashable type: 'list'",
     "output_type": "error",
     "traceback": [
      "\u001b[0;31m---------------------------------------------------------------------------\u001b[0m",
      "\u001b[0;31mTypeError\u001b[0m                                 Traceback (most recent call last)",
      "\u001b[0;32m<ipython-input-43-334e6525caef>\u001b[0m in \u001b[0;36m<module>\u001b[0;34m()\u001b[0m\n\u001b[0;32m----> 1\u001b[0;31m \u001b[0mstuff\u001b[0m \u001b[0;34m=\u001b[0m \u001b[0;34m{\u001b[0m\u001b[0;34m[\u001b[0m\u001b[0;34m'a'\u001b[0m\u001b[0;34m,\u001b[0m \u001b[0;34m'b'\u001b[0m\u001b[0;34m]\u001b[0m\u001b[0;34m:\u001b[0m \u001b[0;34m'c'\u001b[0m\u001b[0;34m,\u001b[0m \u001b[0;34m[\u001b[0m\u001b[0;34m'd'\u001b[0m\u001b[0;34m,\u001b[0m \u001b[0;34m'e'\u001b[0m\u001b[0;34m]\u001b[0m\u001b[0;34m:\u001b[0m \u001b[0;34m'f'\u001b[0m\u001b[0;34m}\u001b[0m\u001b[0;34m\u001b[0m\u001b[0m\n\u001b[0m",
      "\u001b[0;31mTypeError\u001b[0m: unhashable type: 'list'"
     ]
    }
   ],
   "source": [
    "stuff = {['a', 'b']: 'c', ['d', 'e']: 'f'}"
   ]
  },
  {
   "cell_type": "markdown",
   "metadata": {},
   "source": [
    "On the other hand, tuples work just fine:\n",
    "\n"
   ]
  },
  {
   "cell_type": "code",
   "execution_count": 45,
   "metadata": {},
   "outputs": [
    {
     "data": {
      "text/plain": [
       "{('a', 'b'): 'c', ('d', 'e'): 'f'}"
      ]
     },
     "execution_count": 45,
     "metadata": {},
     "output_type": "execute_result"
    }
   ],
   "source": [
    "stuff = {('a', 'b'): 'c', ('d', 'e'): 'f'}\n",
    "stuff"
   ]
  },
  {
   "cell_type": "markdown",
   "metadata": {},
   "source": [
    "The values of a dictionary can be anything.\n",
    "\n"
   ]
  },
  {
   "cell_type": "code",
   "execution_count": 48,
   "metadata": {},
   "outputs": [
    {
     "data": {
      "text/plain": [
       "{'a': [1, 2, 3], 'b': [4, 5, 6]}"
      ]
     },
     "execution_count": 48,
     "metadata": {},
     "output_type": "execute_result"
    }
   ],
   "source": [
    "stuff = {'a': [1, 2, 3], 'b': [4, 5, 6]}\n",
    "stuff"
   ]
  },
  {
   "cell_type": "markdown",
   "metadata": {},
   "source": [
    "## Exercises"
   ]
  },
  {
   "cell_type": "markdown",
   "metadata": {},
   "source": [
    "1. Input a string and print the frequency of each word"
   ]
  },
  {
   "cell_type": "code",
   "execution_count": 49,
   "metadata": {},
   "outputs": [
    {
     "name": "stdout",
     "output_type": "stream",
     "text": [
      "Enter a sentence: hello my name is hello\n",
      "\n",
      "hello appears 2 times in the sentence\n",
      "my appears once in the sentence\n",
      "name appears once in the sentence\n",
      "is appears once in the sentence\n"
     ]
    }
   ],
   "source": [
    "sentence = input(\"Enter a sentence: \")\n",
    "\n",
    "counts = {}     # {word: count, ...}\n",
    "for word in sentence.split():\n",
    "    if word in counts:\n",
    "        # we have seen this word before\n",
    "        counts[word] += 1\n",
    "    else:\n",
    "        # this is the first time this word occurs\n",
    "        counts[word] = 1\n",
    "\n",
    "print()     # display an empty line\n",
    "for word, count in counts.items():\n",
    "    if count == 1:\n",
    "        # \"1 times\" looks weird\n",
    "        print(word, \"appears once in the sentence\")\n",
    "    else:\n",
    "        print(word, \"appears\", count, \"times in the sentence\")"
   ]
  },
  {
   "cell_type": "markdown",
   "metadata": {},
   "source": [
    "## Defining Custom Functions"
   ]
  },
  {
   "cell_type": "markdown",
   "metadata": {},
   "source": [
    "### Why should I use custom functions?\n",
    "\n",
    "Have a look at this code:"
   ]
  },
  {
   "cell_type": "code",
   "execution_count": 50,
   "metadata": {},
   "outputs": [
    {
     "name": "stdout",
     "output_type": "stream",
     "text": [
      "************\n",
      "Hello World!\n",
      "************\n",
      "*************\n",
      "Enter a word:\n",
      "*************\n",
      "python\n",
      "*******************\n",
      "You entered Python!\n",
      "*******************\n"
     ]
    }
   ],
   "source": [
    "print(\"************\")\n",
    "print(\"Hello World!\")\n",
    "print(\"************\")\n",
    "\n",
    "print(\"*************\")\n",
    "print(\"Enter a word:\")\n",
    "print(\"*************\")\n",
    "\n",
    "word = input()\n",
    "\n",
    "if word == 'python':\n",
    "    print(\"*******************\")\n",
    "    print(\"You entered Python!\")\n",
    "    print(\"*******************\")\n",
    "else:\n",
    "    print(\"**************************\")\n",
    "    print(\"You didn't enter Python :(\")\n",
    "    print(\"**************************\")"
   ]
  },
  {
   "cell_type": "markdown",
   "metadata": {},
   "source": [
    "Now take a look at this code\n",
    "\n",
    "<code>\n",
    "\n",
    "print_box(\"Hello World!\")\n",
    "print_box(\"Enter a word:\")\n",
    "word = input()\n",
    "if word == 'python':\n",
    "    print_box(\"You entered Python!\")\n",
    "else:\n",
    "    print_box(\"You didn't enter Python :(\")\n",
    "    \n",
    "</code>"
   ]
  },
  {
   "cell_type": "markdown",
   "metadata": {},
   "source": [
    "In this tutorial we'll learn to define a print_box function that prints text in a box. We can write the code for printing the box once, and then use it multiple times anywhere in the program.\n",
    "\n",
    "Dividing a long program into simple functions also makes the code easier to work with. If there's a problem with the code we can test the functions one by one and find the problem easily."
   ]
  },
  {
   "cell_type": "markdown",
   "metadata": {},
   "source": [
    "### First functions"
   ]
  },
  {
   "cell_type": "markdown",
   "metadata": {},
   "source": [
    "The pass keyword does nothing."
   ]
  },
  {
   "cell_type": "code",
   "execution_count": 51,
   "metadata": {
    "collapsed": true
   },
   "outputs": [],
   "source": [
    "pass"
   ]
  },
  {
   "cell_type": "markdown",
   "metadata": {},
   "source": [
    "Let's use it to define a function that does nothing.\n",
    "\n"
   ]
  },
  {
   "cell_type": "code",
   "execution_count": 52,
   "metadata": {
    "collapsed": true
   },
   "outputs": [],
   "source": [
    "def do_nothing():\n",
    "    pass"
   ]
  },
  {
   "cell_type": "code",
   "execution_count": 53,
   "metadata": {},
   "outputs": [
    {
     "data": {
      "text/plain": [
       "<function __main__.do_nothing>"
      ]
     },
     "execution_count": 53,
     "metadata": {},
     "output_type": "execute_result"
    }
   ],
   "source": [
    "do_nothing"
   ]
  },
  {
   "cell_type": "markdown",
   "metadata": {},
   "source": [
    "Seems to be working so far, we have a function. It's just a value that is assigned to a variable called do_nothing. You can ignore the 0xblablabla stuff for now.\n",
    "\n",
    "The pass is needed here because without it, Python doesn't know when the function ends and it gives us a syntax error. We don't need the pass when our functions contain something else.\n",
    "\n",
    "Let's see what happens if we call our function.\n",
    "\n"
   ]
  },
  {
   "cell_type": "code",
   "execution_count": 54,
   "metadata": {
    "collapsed": true
   },
   "outputs": [],
   "source": [
    "do_nothing()"
   ]
  },
  {
   "cell_type": "markdown",
   "metadata": {},
   "source": [
    "There we go. It did nothing at all.\n",
    "\n",
    "Maybe we could just do something in the function instead?"
   ]
  },
  {
   "cell_type": "code",
   "execution_count": 55,
   "metadata": {
    "collapsed": true
   },
   "outputs": [],
   "source": [
    "def print_hi():\n",
    "    print(\"Hi\")"
   ]
  },
  {
   "cell_type": "code",
   "execution_count": 56,
   "metadata": {},
   "outputs": [
    {
     "name": "stdout",
     "output_type": "stream",
     "text": [
      "Hi\n"
     ]
    }
   ],
   "source": [
    "print_hi()"
   ]
  },
  {
   "cell_type": "markdown",
   "metadata": {},
   "source": [
    "It's working. How about printing a variable in the function?"
   ]
  },
  {
   "cell_type": "code",
   "execution_count": 57,
   "metadata": {
    "collapsed": true
   },
   "outputs": [],
   "source": [
    " def print_message():\n",
    "        print(message)"
   ]
  },
  {
   "cell_type": "code",
   "execution_count": 58,
   "metadata": {
    "collapsed": true
   },
   "outputs": [],
   "source": [
    "message = \"Hello World!\""
   ]
  },
  {
   "cell_type": "code",
   "execution_count": 60,
   "metadata": {},
   "outputs": [
    {
     "name": "stdout",
     "output_type": "stream",
     "text": [
      "Hello World!\n"
     ]
    }
   ],
   "source": [
    "print_message()"
   ]
  },
  {
   "cell_type": "markdown",
   "metadata": {},
   "source": [
    "Again, it works. How about setting a variable in the function?"
   ]
  },
  {
   "cell_type": "code",
   "execution_count": 61,
   "metadata": {
    "collapsed": true
   },
   "outputs": [],
   "source": [
    "def get_username():\n",
    "    username = input(\"Username: \")"
   ]
  },
  {
   "cell_type": "code",
   "execution_count": 62,
   "metadata": {},
   "outputs": [
    {
     "name": "stdout",
     "output_type": "stream",
     "text": [
      "Username: ironstark\n"
     ]
    }
   ],
   "source": [
    "get_username()"
   ]
  },
  {
   "cell_type": "code",
   "execution_count": 63,
   "metadata": {},
   "outputs": [
    {
     "ename": "NameError",
     "evalue": "name 'username' is not defined",
     "output_type": "error",
     "traceback": [
      "\u001b[0;31m---------------------------------------------------------------------------\u001b[0m",
      "\u001b[0;31mNameError\u001b[0m                                 Traceback (most recent call last)",
      "\u001b[0;32m<ipython-input-63-d265f27851d6>\u001b[0m in \u001b[0;36m<module>\u001b[0;34m()\u001b[0m\n\u001b[0;32m----> 1\u001b[0;31m \u001b[0musername\u001b[0m\u001b[0;34m\u001b[0m\u001b[0m\n\u001b[0m",
      "\u001b[0;31mNameError\u001b[0m: name 'username' is not defined"
     ]
    }
   ],
   "source": [
    "username"
   ]
  },
  {
   "cell_type": "markdown",
   "metadata": {},
   "source": [
    "Why didn't that work?"
   ]
  },
  {
   "cell_type": "markdown",
   "metadata": {},
   "source": [
    "### Locals and globals"
   ]
  },
  {
   "cell_type": "markdown",
   "metadata": {},
   "source": [
    "So far we have used nothing but global variables. They are called globals because the same variables are available anywhere in our program, even in functions."
   ]
  },
  {
   "cell_type": "code",
   "execution_count": 64,
   "metadata": {
    "collapsed": true
   },
   "outputs": [],
   "source": [
    "a = 1\n",
    "b = \"hi\"\n",
    "c = \"hello\"\n",
    "def print_abc():\n",
    "    print(a,b,c)"
   ]
  },
  {
   "cell_type": "code",
   "execution_count": 65,
   "metadata": {},
   "outputs": [
    {
     "name": "stdout",
     "output_type": "stream",
     "text": [
      "1 hi hello\n"
     ]
    }
   ],
   "source": [
    "print_abc()"
   ]
  },
  {
   "cell_type": "markdown",
   "metadata": {},
   "source": [
    "But there are also local variables. They exist only inside functions, and they are deleted when the function exits."
   ]
  },
  {
   "cell_type": "code",
   "execution_count": 66,
   "metadata": {
    "collapsed": true
   },
   "outputs": [],
   "source": [
    "def thingy():\n",
    "    d = \"hello again, i'm a local variable\"\n",
    "    print('inside thingy:', d)"
   ]
  },
  {
   "cell_type": "code",
   "execution_count": 67,
   "metadata": {},
   "outputs": [
    {
     "name": "stdout",
     "output_type": "stream",
     "text": [
      "inside thingy: hello again, i'm a local variable\n"
     ]
    }
   ],
   "source": [
    "thingy()"
   ]
  },
  {
   "cell_type": "code",
   "execution_count": 68,
   "metadata": {},
   "outputs": [
    {
     "ename": "NameError",
     "evalue": "name 'd' is not defined",
     "output_type": "error",
     "traceback": [
      "\u001b[0;31m---------------------------------------------------------------------------\u001b[0m",
      "\u001b[0;31mNameError\u001b[0m                                 Traceback (most recent call last)",
      "\u001b[0;32m<ipython-input-68-e29311f6f1bf>\u001b[0m in \u001b[0;36m<module>\u001b[0;34m()\u001b[0m\n\u001b[0;32m----> 1\u001b[0;31m \u001b[0md\u001b[0m\u001b[0;34m\u001b[0m\u001b[0m\n\u001b[0m",
      "\u001b[0;31mNameError\u001b[0m: name 'd' is not defined"
     ]
    }
   ],
   "source": [
    "d"
   ]
  },
  {
   "attachments": {
    "image.png": {
     "image/png": "[encoded data removed]"
    }
   },
   "cell_type": "markdown",
   "metadata": {},
   "source": [
    "Let's draw a diagram of these variables:\n",
    "\n",
    "![image.png](attachment:image.png)"
   ]
  },
  {
   "cell_type": "markdown",
   "metadata": {},
   "source": [
    "However, modifying a global variable in-place from a function is easy."
   ]
  },
  {
   "cell_type": "code",
   "execution_count": 69,
   "metadata": {
    "collapsed": true
   },
   "outputs": [],
   "source": [
    "stuff = ['global stuff']\n",
    "def add_stuff():\n",
    "    stuff.append('local stuff')"
   ]
  },
  {
   "cell_type": "code",
   "execution_count": 70,
   "metadata": {
    "collapsed": true
   },
   "outputs": [],
   "source": [
    "add_stuff()"
   ]
  },
  {
   "cell_type": "code",
   "execution_count": 71,
   "metadata": {},
   "outputs": [
    {
     "data": {
      "text/plain": [
       "['global stuff', 'local stuff']"
      ]
     },
     "execution_count": 71,
     "metadata": {},
     "output_type": "execute_result"
    }
   ],
   "source": [
    "stuff"
   ]
  },
  {
   "cell_type": "markdown",
   "metadata": {},
   "source": [
    "This doesn't work if the value is of an immutable type, like string or integer because immutable values cannot be modified in-place. Fortunately, Python will tell us if something's wrong."
   ]
  },
  {
   "cell_type": "code",
   "execution_count": 72,
   "metadata": {},
   "outputs": [
    {
     "ename": "UnboundLocalError",
     "evalue": "local variable 'thing' referenced before assignment",
     "output_type": "error",
     "traceback": [
      "\u001b[0;31m---------------------------------------------------------------------------\u001b[0m",
      "\u001b[0;31mUnboundLocalError\u001b[0m                         Traceback (most recent call last)",
      "\u001b[0;32m<ipython-input-72-611f7a5f1775>\u001b[0m in \u001b[0;36m<module>\u001b[0;34m()\u001b[0m\n\u001b[1;32m      3\u001b[0m     \u001b[0mthing\u001b[0m \u001b[0;34m+=\u001b[0m \u001b[0;36m1\u001b[0m\u001b[0;34m\u001b[0m\u001b[0m\n\u001b[1;32m      4\u001b[0m \u001b[0;34m\u001b[0m\u001b[0m\n\u001b[0;32m----> 5\u001b[0;31m \u001b[0mstuff\u001b[0m\u001b[0;34m(\u001b[0m\u001b[0;34m)\u001b[0m\u001b[0;34m\u001b[0m\u001b[0m\n\u001b[0m",
      "\u001b[0;32m<ipython-input-72-611f7a5f1775>\u001b[0m in \u001b[0;36mstuff\u001b[0;34m()\u001b[0m\n\u001b[1;32m      1\u001b[0m \u001b[0mthing\u001b[0m \u001b[0;34m=\u001b[0m \u001b[0;36m1\u001b[0m\u001b[0;34m\u001b[0m\u001b[0m\n\u001b[1;32m      2\u001b[0m \u001b[0;32mdef\u001b[0m \u001b[0mstuff\u001b[0m\u001b[0;34m(\u001b[0m\u001b[0;34m)\u001b[0m\u001b[0;34m:\u001b[0m\u001b[0;34m\u001b[0m\u001b[0m\n\u001b[0;32m----> 3\u001b[0;31m     \u001b[0mthing\u001b[0m \u001b[0;34m+=\u001b[0m \u001b[0;36m1\u001b[0m\u001b[0;34m\u001b[0m\u001b[0m\n\u001b[0m\u001b[1;32m      4\u001b[0m \u001b[0;34m\u001b[0m\u001b[0m\n\u001b[1;32m      5\u001b[0m \u001b[0mstuff\u001b[0m\u001b[0;34m(\u001b[0m\u001b[0;34m)\u001b[0m\u001b[0;34m\u001b[0m\u001b[0m\n",
      "\u001b[0;31mUnboundLocalError\u001b[0m: local variable 'thing' referenced before assignment"
     ]
    }
   ],
   "source": [
    "thing = 1\n",
    "def stuff():\n",
    "    thing += 1\n",
    "\n",
    "stuff()"
   ]
  },
  {
   "cell_type": "markdown",
   "metadata": {},
   "source": [
    "## Input"
   ]
  },
  {
   "cell_type": "markdown",
   "metadata": {},
   "source": [
    "Note: This section has nothing to do with the input function that is used like word = input(\"enter something: \").\n",
    "\n",
    "So far our functions seem to be really isolated from the rest of our code, and it sucks! But they really are not as isolated as you might think they are.\n",
    "\n",
    "Let's think about what the print function does. It takes an argument and prints it. Maybe a custom function could also take an argument?"
   ]
  },
  {
   "cell_type": "code",
   "execution_count": 74,
   "metadata": {
    "collapsed": true
   },
   "outputs": [],
   "source": [
    "def print_twice(message):\n",
    "     print(message)\n",
    "     print(message)"
   ]
  },
  {
   "cell_type": "markdown",
   "metadata": {},
   "source": [
    "Here message is an argument. When we call the function we'll get a local variable called message that will point to whatever we passed to print_twice.\n",
    "\n",
    "This function can be called in two ways:\n",
    "\n",
    "    Using a positional argument.\n",
    "\n",
    "    This is the recommended way for functions that take only one or two arguments. I would do this in my code."
   ]
  },
  {
   "cell_type": "code",
   "execution_count": 75,
   "metadata": {},
   "outputs": [
    {
     "name": "stdout",
     "output_type": "stream",
     "text": [
      "hi\n",
      "hi\n"
     ]
    }
   ],
   "source": [
    "print_twice(\"hi\")"
   ]
  },
  {
   "cell_type": "markdown",
   "metadata": {},
   "source": [
    "When the function was running it had a local message variable that pointed to \"hi\". The function printed it twice.\n",
    "\n",
    "Positional arguments are great for simple things, but if our function takes many positional arguments it may be hard to tell which argument is which."
   ]
  },
  {
   "cell_type": "markdown",
   "metadata": {},
   "source": [
    "Using a keyword argument:"
   ]
  },
  {
   "cell_type": "code",
   "execution_count": 77,
   "metadata": {},
   "outputs": [
    {
     "name": "stdout",
     "output_type": "stream",
     "text": [
      "hi\n",
      "hi\n"
     ]
    }
   ],
   "source": [
    "print_twice(message=\"hi\")"
   ]
  },
  {
   "cell_type": "markdown",
   "metadata": {},
   "source": [
    "    The name \"keyword argument\" is a little bit confusing because keyword arguments don't actually have anything to do with keywords (if, else etc). Keyword arguments are just a way to give names for our arguments.\n",
    "\n",
    "    Keyword arguments are great when our function needs to take many arguments, because each argument has a name and it's easy to see which argument is which.\n",
    "\n",
    "    Also note that there are no spaces around the = sign. This is just a small style detail that Python programmers like to do because message = \"hi\" and some_function(message=\"hi\") do two completely different things.\n",
    "\n",
    "Personally, I would use this function with a positional argument. It only takes one argument, so I don't need to worry about which argument is which.\n",
    "\n",
    "Now it's time to solve our box printing problem:"
   ]
  },
  {
   "cell_type": "code",
   "execution_count": 78,
   "metadata": {
    "collapsed": true
   },
   "outputs": [],
   "source": [
    "def print_box(message):\n",
    "    print('*' * len(message))\n",
    "    print(message)\n",
    "    print('*' * len(message))"
   ]
  },
  {
   "cell_type": "markdown",
   "metadata": {},
   "source": [
    "## Default values"
   ]
  },
  {
   "cell_type": "markdown",
   "metadata": {},
   "source": [
    "What if we want to print different characters instead of always printing stars?\n",
    "\n",
    "We could change our print_box function to take two arguments:"
   ]
  },
  {
   "cell_type": "code",
   "execution_count": 79,
   "metadata": {
    "collapsed": true
   },
   "outputs": [],
   "source": [
    "def print_box(message, character):\n",
    "    print(character * len(message))\n",
    "    print(message)\n",
    "    print(character * len(message))"
   ]
  },
  {
   "cell_type": "markdown",
   "metadata": {},
   "source": [
    "Then we could change our code to always call print_box with a star as the second argument:"
   ]
  },
  {
   "cell_type": "code",
   "execution_count": 80,
   "metadata": {},
   "outputs": [
    {
     "name": "stdout",
     "output_type": "stream",
     "text": [
      "***********\n",
      "Hello World\n",
      "***********\n"
     ]
    }
   ],
   "source": [
    "print_box(\"Hello World\", \"*\")"
   ]
  },
  {
   "cell_type": "markdown",
   "metadata": {},
   "source": [
    "But we don't need to change our existing code. We can make the second argument optional by giving it a default value."
   ]
  },
  {
   "cell_type": "code",
   "execution_count": 81,
   "metadata": {
    "collapsed": true
   },
   "outputs": [],
   "source": [
    "def print_box(message, character='*'):\n",
    "    print(character * len(message))\n",
    "    print(message)\n",
    "    print(character * len(message))"
   ]
  },
  {
   "cell_type": "markdown",
   "metadata": {},
   "source": [
    "We can print a row of stars using the function without specifying a different character in two ways:\n",
    "\n",
    "    Using a positional argument."
   ]
  },
  {
   "cell_type": "code",
   "execution_count": 83,
   "metadata": {},
   "outputs": [
    {
     "name": "stdout",
     "output_type": "stream",
     "text": [
      "************\n",
      "Hello World!\n",
      "************\n"
     ]
    }
   ],
   "source": [
    "print_box(\"Hello World!\")"
   ]
  },
  {
   "cell_type": "markdown",
   "metadata": {},
   "source": [
    "Using a keyword argument."
   ]
  },
  {
   "cell_type": "code",
   "execution_count": 84,
   "metadata": {},
   "outputs": [
    {
     "name": "stdout",
     "output_type": "stream",
     "text": [
      "************\n",
      "Hello World!\n",
      "************\n"
     ]
    }
   ],
   "source": [
    "print_box(message=\"Hello World!\")"
   ]
  },
  {
   "cell_type": "markdown",
   "metadata": {},
   "source": [
    "Or we can give it a different character in a few different ways if we need to:\n",
    "\n",
    "    Using two positional arguments.\n",
    "\n"
   ]
  },
  {
   "cell_type": "code",
   "execution_count": 85,
   "metadata": {},
   "outputs": [
    {
     "name": "stdout",
     "output_type": "stream",
     "text": [
      "?????????????\n",
      "Enter a word:\n",
      "?????????????\n"
     ]
    }
   ],
   "source": [
    "print_box(\"Enter a word:\", \"?\")"
   ]
  },
  {
   "cell_type": "markdown",
   "metadata": {},
   "source": [
    "Using two keyword arguments."
   ]
  },
  {
   "cell_type": "code",
   "execution_count": 86,
   "metadata": {},
   "outputs": [
    {
     "name": "stdout",
     "output_type": "stream",
     "text": [
      "?????????????\n",
      "Enter a word:\n",
      "?????????????\n",
      "?????????????\n",
      "Enter a word:\n",
      "?????????????\n"
     ]
    }
   ],
   "source": [
    "print_box(message=\"Enter a word:\", character=\"?\")\n",
    "print_box(character=\"?\", message=\"Enter a word:\")"
   ]
  },
  {
   "cell_type": "markdown",
   "metadata": {},
   "source": [
    "Using one positional argument and one keyword argument."
   ]
  },
  {
   "cell_type": "markdown",
   "metadata": {},
   "source": [
    "I would probably do this. If an argument has a default value, I like to use a keyword argument to change it if needed.\n",
    "\n"
   ]
  },
  {
   "cell_type": "code",
   "execution_count": 87,
   "metadata": {},
   "outputs": [
    {
     "name": "stdout",
     "output_type": "stream",
     "text": [
      "?????????????\n",
      "Enter a word:\n",
      "?????????????\n"
     ]
    }
   ],
   "source": [
    "print_box(\"Enter a word:\", character=\"?\")"
   ]
  },
  {
   "cell_type": "markdown",
   "metadata": {},
   "source": [
    "However, this doesn't work:\n",
    "\n"
   ]
  },
  {
   "cell_type": "code",
   "execution_count": 88,
   "metadata": {},
   "outputs": [
    {
     "ename": "SyntaxError",
     "evalue": "positional argument follows keyword argument (<ipython-input-88-6939740db0c6>, line 1)",
     "output_type": "error",
     "traceback": [
      "\u001b[0;36m  File \u001b[0;32m\"<ipython-input-88-6939740db0c6>\"\u001b[0;36m, line \u001b[0;32m1\u001b[0m\n\u001b[0;31m    print_box(character=\"?\", \"Enter a word:\")\u001b[0m\n\u001b[0m                            ^\u001b[0m\n\u001b[0;31mSyntaxError\u001b[0m\u001b[0;31m:\u001b[0m positional argument follows keyword argument\n"
     ]
    }
   ],
   "source": [
    "print_box(character=\"?\", \"Enter a word:\")"
   ]
  },
  {
   "cell_type": "markdown",
   "metadata": {},
   "source": [
    "The problem is that we have a keyword argument before a positional argument. Python doesn't allow this. We don't need to worry about this, because if we accidentally call a function like this we will get an error message."
   ]
  },
  {
   "cell_type": "markdown",
   "metadata": {},
   "source": [
    "### Output"
   ]
  },
  {
   "cell_type": "markdown",
   "metadata": {},
   "source": [
    "The built-in input function returns a value. Can our function return a value too?"
   ]
  },
  {
   "cell_type": "code",
   "execution_count": 89,
   "metadata": {
    "collapsed": true
   },
   "outputs": [],
   "source": [
    "def times_two(thing):\n",
    "     return thing * 2"
   ]
  },
  {
   "cell_type": "code",
   "execution_count": 90,
   "metadata": {},
   "outputs": [
    {
     "data": {
      "text/plain": [
       "6"
      ]
     },
     "execution_count": 90,
     "metadata": {},
     "output_type": "execute_result"
    }
   ],
   "source": [
    "times_two(3)"
   ]
  },
  {
   "cell_type": "code",
   "execution_count": 91,
   "metadata": {},
   "outputs": [
    {
     "data": {
      "text/plain": [
       "10"
      ]
     },
     "execution_count": 91,
     "metadata": {},
     "output_type": "execute_result"
    }
   ],
   "source": [
    "times_two(5)"
   ]
  },
  {
   "cell_type": "markdown",
   "metadata": {},
   "source": [
    "\n",
    "\n",
    "Yes, it can. Now typing times_two(3) to the prompt does the same thing as typing 6 to the prompt.\n",
    "\n",
    "We can call the times_two function and use the result however we want, just like we can use built-in functions:"
   ]
  },
  {
   "cell_type": "code",
   "execution_count": 92,
   "metadata": {},
   "outputs": [
    {
     "data": {
      "text/plain": [
       "10"
      ]
     },
     "execution_count": 92,
     "metadata": {},
     "output_type": "execute_result"
    }
   ],
   "source": [
    "times_two(2) + times_two(3)     # calculate 4 + 6"
   ]
  },
  {
   "cell_type": "code",
   "execution_count": 93,
   "metadata": {},
   "outputs": [
    {
     "name": "stdout",
     "output_type": "stream",
     "text": [
      "2 * 5 is 10\n"
     ]
    }
   ],
   "source": [
    "print('2 * 5 is', times_two(5))"
   ]
  },
  {
   "cell_type": "markdown",
   "metadata": {},
   "source": [
    "Note that returning from a function ends it immediately."
   ]
  },
  {
   "cell_type": "code",
   "execution_count": 94,
   "metadata": {
    "collapsed": true
   },
   "outputs": [],
   "source": [
    "def return_before_print():\n",
    "     return None\n",
    "     print(\"This never gets printed.\")\n",
    "\n",
    "return_before_print()"
   ]
  },
  {
   "cell_type": "markdown",
   "metadata": {},
   "source": [
    "If we don't have any return statements or we have a return statement that doesn't specify what to return, our function will return None."
   ]
  },
  {
   "cell_type": "code",
   "execution_count": 95,
   "metadata": {},
   "outputs": [
    {
     "name": "stdout",
     "output_type": "stream",
     "text": [
      "None\n",
      "None\n"
     ]
    }
   ],
   "source": [
    "def return_none_1():\n",
    "     pass\n",
    "\n",
    "def return_none_2():\n",
    "     return\n",
    "\n",
    "print(return_none_1())\n",
    "\n",
    "print(return_none_2())"
   ]
  }
 ],
 "metadata": {
  "kernelspec": {
   "display_name": "Python 3",
   "language": "python",
   "name": "python3"
  },
  "language_info": {
   "codemirror_mode": {
    "name": "ipython",
    "version": 3
   },
   "file_extension": ".py",
   "mimetype": "text/x-python",
   "name": "python",
   "nbconvert_exporter": "python",
   "pygments_lexer": "ipython3",
   "version": "3.6.2"
  }
 },
 "nbformat": 4,
 "nbformat_minor": 2
}
